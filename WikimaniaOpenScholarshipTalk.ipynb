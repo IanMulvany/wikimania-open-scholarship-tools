{
 "metadata": {
  "celltoolbar": "Slideshow",
  "name": "",
  "signature": "sha256:137346c5b2722f5704292690673af82f81e1a0e8f86d0b0387ad65b97f121eb4"
 },
 "nbformat": 3,
 "nbformat_minor": 0,
 "worksheets": [
  {
   "cells": [
    {
     "cell_type": "markdown",
     "metadata": {
      "slideshow": {
       "slide_type": "slide"
      }
     },
     "source": [
      "# Open Scholarship Tools"
     ]
    },
    {
     "cell_type": "markdown",
     "metadata": {
      "slideshow": {
       "slide_type": "fragment"
      }
     },
     "source": [
      "a whirlwind tour"
     ]
    },
    {
     "cell_type": "markdown",
     "metadata": {
      "slideshow": {
       "slide_type": "fragment"
      }
     },
     "source": [
      "Martin Fenner [@mfenner](https://twitter.com/mfenner)"
     ]
    },
    {
     "cell_type": "markdown",
     "metadata": {
      "slideshow": {
       "slide_type": "fragment"
      }
     },
     "source": [
      "Ian Mulvany [@ianmulvany](https://twitter.com/ianmulvany)"
     ]
    },
    {
     "cell_type": "markdown",
     "metadata": {},
     "source": [
      "We could try to build in some scripts that:\n",
      "\n",
      "- gets some plos article data via the crossre API\n",
      "- get some ALM data about those articles from the PLOS api\n"
     ]
    },
    {
     "cell_type": "code",
     "collapsed": false,
     "input": [
      "# lets test embedding a html page into the presentation\n",
      "from IPython.display import HTML\n",
      "HTML('<iframe src=\"http://www.mulvany.net\" width=600 height=400></iframe>')"
     ],
     "language": "python",
     "metadata": {
      "slideshow": {
       "slide_type": "slide"
      }
     },
     "outputs": [
      {
       "html": [
        "<iframe src=\"http://www.mulvany.net\" width=600 height=400></iframe>"
       ],
       "metadata": {},
       "output_type": "pyout",
       "prompt_number": 2,
       "text": [
        "<IPython.core.display.HTML at 0x10eb02110>"
       ]
      }
     ],
     "prompt_number": 2
    },
    {
     "cell_type": "markdown",
     "metadata": {
      "slideshow": {
       "slide_type": "slide"
      }
     },
     "source": [
      "Some example resources for IPython \n",
      "\n",
      "http://ipython.org/ipython-doc/2/install/install.html  \n",
      "http://ipython.org/notebook.html  \n",
      "\n",
      "# Some interesting example notebooks \n",
      "http://nbviewer.ipython.org/gist/empet/eeb8bbe354e709bf590b  \n",
      "\n",
      "#\u00a0Using R in IPython\n",
      "http://www.randalolson.com/2013/01/14/filling-in-pythons-gaps-in-statistics-packages-with-rmagic/  \n",
      "http://nbviewer.ipython.org/github/ipython/ipython/blob/3607712653c66d63e0d7f13f073bde8c0f209ba8/docs/examples/notebooks/rmagic_extension.ipynb  \n",
      "http://nbviewer.ipython.org/gist/yoavram/5280132  \n",
      "\n",
      "#\u00a0R Kernal \n",
      "https://github.com/takluyver/IRkernel  \n",
      "\n",
      "# Julia Kernal \n",
      "https://github.com/JuliaLang/IJulia.jl \n",
      "\n",
      "\n",
      "# Project Jupyter - the future of the tool\n",
      "https://github.com/jupyter/colaboratory/  \n",
      "\n",
      "\n",
      "\n"
     ]
    },
    {
     "cell_type": "code",
     "collapsed": false,
     "input": [],
     "language": "python",
     "metadata": {},
     "outputs": []
    }
   ],
   "metadata": {}
  }
 ]
}